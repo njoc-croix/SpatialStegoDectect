{
  "cells": [
    {
      "cell_type": "markdown",
      "metadata": {
        "id": "fk8rRd0MISpl"
      },
      "source": [
        "# SpatialStegoDectect"
      ]
    },
    {
      "cell_type": "markdown",
      "source": [
        "**This work is outlined in two main parts:**\n",
        "\n",
        "A. The main part (the proposed model and the related functions)\n",
        "\n",
        "B. Working with BOSSBase1.01\n",
        "\n",
        "**Our dataset images are from the BOSSBASE1.01 (Break Our Steganographic System version 1.01): http://agents.fel.cvut.cz/boss/index.php?mode=VIEW&tmpl=materials\n"
      ],
      "metadata": {
        "id": "lL_MpKVGzTZn"
      }
    },
    {
      "cell_type": "markdown",
      "source": [
        "# A. The main part"
      ],
      "metadata": {
        "id": "558AkQY85pjl"
      }
    },
    {
      "cell_type": "markdown",
      "source": [
        "Mounting the google drive"
      ],
      "metadata": {
        "id": "nZM53M3f5zUR"
      }
    },
    {
      "cell_type": "code",
      "source": [
        "from google.colab import drive\n",
        "drive.mount('/content/drive')"
      ],
      "metadata": {
        "id": "KWUdcKHPAXXD",
        "colab": {
          "base_uri": "https://localhost:8080/"
        },
        "outputId": "08d2976c-6f9a-4d5f-9ad6-bf4226786e12"
      },
      "execution_count": 122,
      "outputs": [
        {
          "output_type": "stream",
          "name": "stdout",
          "text": [
            "Drive already mounted at /content/drive; to attempt to forcibly remount, call drive.mount(\"/content/drive\", force_remount=True).\n"
          ]
        }
      ]
    },
    {
      "cell_type": "markdown",
      "metadata": {
        "id": "lUKjw9jHISpt"
      },
      "source": [
        "Libraries"
      ]
    },
    {
      "cell_type": "code",
      "source": [
        "!pip install tensorflow-addons==0.16.1\n",
        "\n",
        "import os\n",
        "import random\n",
        "import glob\n",
        "import numpy as np\n",
        "import pandas as pd\n",
        "from scipy import ndimage, signal\n",
        "from skimage.util.shape import view_as_blocks\n",
        "import cv2\n",
        "import matplotlib.pyplot as plt\n",
        "import matplotlib.colors as colors\n",
        "from time import time\n",
        "import datetime\n",
        "\n",
        "from sklearn.model_selection import train_test_split\n",
        "from keras.utils import np_utils\n",
        "from keras.initializers import Constant, RandomNormal, glorot_normal\n",
        "from keras import optimizers, regularizers\n",
        "from keras.layers import Activation, Conv2D, LeakyReLU, DepthwiseConv2D, SeparableConv2D, AveragePooling2D, Concatenate, Reshape, Dense\n",
        "from keras.models import Model, Sequential\n",
        "\n",
        "import tensorflow as tf\n",
        "from tensorflow.keras.layers import Lambda, Layer, ReLU, SpatialDropout2D\n",
        "from tensorflow.keras.models import load_model\n",
        "from tensorflow.keras.utils import to_categorical, plot_model\n",
        "\n",
        "import tensorflow_addons as tfa\n",
        "from tensorflow_addons.layers.adaptive_pooling import AdaptiveAveragePooling2D\n",
        "import tensorflow_addons.utils.keras_utils as conv_utils\n",
        "\n",
        "import ntpath\n",
        "\n",
        "import keras.backend as K\n",
        "from keras.layers import concatenate, Reshape"
      ],
      "metadata": {
        "colab": {
          "base_uri": "https://localhost:8080/"
        },
        "id": "iM3qiGNY0GYU",
        "outputId": "f23a206a-7290-4cef-d07a-cc0e7fc50fed"
      },
      "execution_count": 123,
      "outputs": [
        {
          "output_type": "stream",
          "name": "stdout",
          "text": [
            "Looking in indexes: https://pypi.org/simple, https://us-python.pkg.dev/colab-wheels/public/simple/\n",
            "Requirement already satisfied: tensorflow-addons==0.16.1 in /usr/local/lib/python3.10/dist-packages (0.16.1)\n",
            "Requirement already satisfied: typeguard>=2.7 in /usr/local/lib/python3.10/dist-packages (from tensorflow-addons==0.16.1) (4.0.0)\n",
            "Requirement already satisfied: typing-extensions>=4.4.0 in /usr/local/lib/python3.10/dist-packages (from typeguard>=2.7->tensorflow-addons==0.16.1) (4.5.0)\n"
          ]
        }
      ]
    },
    {
      "cell_type": "markdown",
      "metadata": {
        "id": "I-5miJE2ISpv"
      },
      "source": [
        "30 SRM filters for preprocessing and the activation function"
      ]
    },
    {
      "cell_type": "code",
      "source": [
        "# 30 SRM FILTERS\n",
        "srm_weights = np.load('/content/drive/My Drive/SIMPA_CYBERSECURITY/Final_SIMPA_Cyber/SRM_file/SRM.npy') \n",
        "biasSRM=np.ones(30)\n",
        "print (srm_weights.shape)\n",
        "# ACTIVATION FUNCTION\n",
        "T3 =3;\n",
        "def Tanh3(x):\n",
        "    tanh3 = K.tanh(x)*T3\n",
        "    return tanh3"
      ],
      "metadata": {
        "id": "xbU-MkGxXcGp",
        "colab": {
          "base_uri": "https://localhost:8080/"
        },
        "outputId": "4ebbf785-3dcb-47bf-c844-1f4be7d4c265"
      },
      "execution_count": 124,
      "outputs": [
        {
          "output_type": "stream",
          "name": "stdout",
          "text": [
            "(5, 5, 1, 30)\n"
          ]
        }
      ]
    },
    {
      "cell_type": "markdown",
      "metadata": {
        "id": "nf8qiqPfISpw"
      },
      "source": [
        "#Architecture\n",
        "\n",
        "If you have 'n' inputs based on their different sizes, you can modify the number of inputs to 'n' (see the first line [def SpatialStegoDectect(img_size=256, num_inputs=1):]and change num_inputs to 'n')"
      ]
    },
    {
      "cell_type": "code",
      "execution_count": 125,
      "metadata": {
        "id": "O1O9b_cpISpx"
      },
      "outputs": [],
      "source": [
        "def SpatialStegoDectect(img_size=256, num_inputs=1):\n",
        "    tf.keras.backend.clear_session()\n",
        "\n",
        "    # Inputs\n",
        "    inputs = []\n",
        "    for i in range(num_inputs):\n",
        "        inputs.append(Input(shape=(img_size, img_size, 1), name=f\"input_{i+1}\"))\n",
        "\n",
        "    # Reshape inputs to have the same spatial dimensions\n",
        "    reshapes = []\n",
        "    for i in range(num_inputs):\n",
        "        pool_size = img_size // (2 ** i)\n",
        "        reshape = AveragePooling2D(pool_size=(pool_size, pool_size))(inputs[i])\n",
        "        reshapes.append(reshape)\n",
        "\n",
        "    # Block 1\n",
        "    layers = tf.keras.layers.Conv2D(30, (5, 5), strides=(1, 1), padding='valid')(inputs[0])\n",
        "    layers = tf.keras.layers.LeakyReLU()(layers)\n",
        "\n",
        "    # Block 2\n",
        "    layers = tf.keras.layers.DepthwiseConv2D((1, 1), strides=(1, 1), padding='valid')(layers)\n",
        "    layers = tf.keras.layers.LeakyReLU()(layers)\n",
        "    layers = tf.keras.layers.SeparableConv2D(30, (3, 3), strides=(1, 1), padding='valid')(layers)\n",
        "    layers = tf.keras.layers.LeakyReLU()(layers)\n",
        "\n",
        "    # Block 3\n",
        "    layers = tf.keras.layers.DepthwiseConv2D((1, 1), strides=(1, 1), padding='valid')(layers)\n",
        "    layers = tf.keras.layers.LeakyReLU()(layers)\n",
        "    layers = tf.keras.layers.SeparableConv2D(30, (3, 3), strides=(1, 1), padding='valid')(layers)\n",
        "    layers = tf.keras.layers.LeakyReLU()(layers)\n",
        "\n",
        "    # Block 4\n",
        "    layers = tf.keras.layers.Conv2D(60, (3, 3), strides=(1, 1), padding='valid')(layers)\n",
        "    layers = tf.keras.layers.LeakyReLU()(layers)\n",
        "    layers = tf.keras.layers.AveragePooling2D((2, 2), strides=(2, 2))(layers)\n",
        "\n",
        "    # Block 5\n",
        "    layers = tf.keras.layers.Conv2D(60, (3, 3), strides=(1, 1), padding='valid')(layers)\n",
        "    layers = tf.keras.layers.LeakyReLU()(layers)\n",
        "    layers = tf.keras.layers.AveragePooling2D((2, 2), strides=(2, 2))(layers)\n",
        "\n",
        "    # Block 6\n",
        "    layers = tf.keras.layers.DepthwiseConv2D((1, 1), strides=(1, 1), padding='same')(layers)\n",
        "    layers = tf.keras.layers.LeakyReLU()(layers)\n",
        "    layers = tf.keras.layers.SeparableConv2D(384, (3, 3), strides=(1, 1), padding='same')(layers)\n",
        "    layers = tf.keras.layers.LeakyReLU()(layers)\n",
        "\n",
        "    # Block 7\n",
        "    layers = tf.keras.layers.DepthwiseConv2D((1, 1), strides=(1, 1), padding='same')(layers)\n",
        "    layers = tf.keras.layers.LeakyReLU()(layers)\n",
        "    layers = tf.keras.layers.Conv2D(256, (3, 3), strides=(1, 1), padding='same')(layers)\n",
        "    layers = tf.keras.layers.LeakyReLU()(layers)\n",
        "\n",
        "    # Block 8\n",
        "    layers = tf.keras.layers.Conv2D(256, (3, 3), strides=(1, 1), padding='same')(layers)\n",
        "    layers = tf.keras.layers.LeakyReLU()(layers)\n",
        "\n",
        "    # Block 9\n",
        "    layers = tf.keras.layers.Conv2D(256, (3, 3), strides=(1, 1), padding='same')(layers)\n",
        "    layers = tf.keras.layers.LeakyReLU()(layers)\n",
        "\n",
        "    # Block 10\n",
        "    layers = tf.keras.layers.AveragePooling2D((2, 2), strides=(2, 2))(layers)\n",
        "\n",
        "    # Block 11\n",
        "    layers = tf.keras.layers.Conv2D(256, (3, 3), strides=(1, 1), padding='same')(layers)\n",
        "    layers = tf.keras.layers.LeakyReLU()(layers)\n",
        "\n",
        "    # Block 12\n",
        "    layers = tf.keras.layers.Conv2D(256, (3, 3), strides=(1, 1), padding='same')(layers)\n",
        "    layers = tf.keras.layers.LeakyReLU()(layers)\n",
        "\n",
        "    # Block 13 (Multi-scale pooling)\n",
        "    pool_1 = tf.keras.layers.AveragePooling2D((2, 2), strides=(2, 2))(layers)\n",
        "    pool_2 = tf.keras.layers.AveragePooling2D((4, 4), strides=(4, 4))(layers)\n",
        "    pool_3 = tf.keras.layers.AveragePooling2D((8, 8), strides=(8, 8))(layers)\n",
        "    pool_4 = tf.keras.layers.AveragePooling2D((16, 16), strides=(16, 16))(layers)\n",
        "\n",
        "    # Adjust the shapes of the pooling layers\n",
        "    pool_1 = tf.keras.layers.Conv2D(256, (1, 1), padding='same')(pool_1)\n",
        "    pool_2 = tf.keras.layers.Conv2D(256, (1, 1), padding='same')(pool_2)\n",
        "    pool_3 = tf.keras.layers.Conv2D(256, (1, 1), padding='same')(pool_3)\n",
        "    pool_4 = tf.keras.layers.Conv2D(256, (1, 1), padding='same')(pool_4)\n",
        "\n",
        "    # Concatenate for multi-scale pooling layers\n",
        "    reshape_outputs = [Reshape((-1,))(reshape) for reshape in reshapes]\n",
        "    layers = concatenate(reshape_outputs)\n",
        "\n",
        "    # Block 14\n",
        "    layers = tf.keras.layers.Dense(4096)(layers)\n",
        "    layers = tf.keras.layers.LeakyReLU()(layers)\n",
        "\n",
        "    # Block 15\n",
        "    layers = tf.keras.layers.Dense(4096)(layers)\n",
        "    layers = tf.keras.layers.LeakyReLU()(layers)\n",
        "\n",
        "    # Block 16\n",
        "    layers = tf.keras.layers.Dense(2, activation='softmax', name=\"output_1\")(layers)\n",
        "\n",
        "    # Model generation\n",
        "    model = Model(inputs=inputs, outputs=layers)\n",
        "\n",
        "    # Optimizer\n",
        "    optimizer = tf.keras.optimizers.SGD(learning_rate=0.005, momentum=0.95)\n",
        "    model.compile(optimizer=optimizer, loss='binary_crossentropy', metrics=['accuracy'])\n",
        "    print(\"SpatialStegoDetect model generated\")\n",
        "\n",
        "    return model\n",
        "\n",
        "\n",
        "\n"
      ]
    },
    {
      "cell_type": "markdown",
      "metadata": {
        "id": "wkfX5fIxISpz"
      },
      "source": [
        "Functions for the architecture"
      ]
    },
    {
      "cell_type": "code",
      "execution_count": 126,
      "metadata": {
        "id": "KnMEBjmGISp0"
      },
      "outputs": [],
      "source": [
        "\n",
        "def train(model, X_train, y_train, X_valid, y_valid, X_test, y_test, batch_size, epochs, initial_epoch = 0, threshold=0, model_name=\"\"):\n",
        "    start_time = tm.time()\n",
        "    log_dir=\"/content/drive/My Drive/SIMPA_CYBERSECURITY/Final_SIMPA_Cyber/logs/\"+model_name+\"_\"+\"{}\".format(time())\n",
        "    tensorboard = tf.keras.callbacks.TensorBoard(log_dir)\n",
        "    filepath = log_dir+\"/saved-model-{epoch:02d}-{val_accuracy:.2f}.hdf5\"\n",
        "    checkpoint = tf.keras.callbacks.ModelCheckpoint(filepath, monitor='val_accuracy', save_best_only=False, mode='max')\n",
        "    model.reset_states()\n",
        "    history=model.fit(X_train, y_train, epochs=epochs, \n",
        "                        callbacks=[tensorboard,checkpoint], \n",
        "                        batch_size=batch_size,validation_data=(X_valid, y_valid),initial_epoch=initial_epoch)\n",
        "    \n",
        "    metrics = model.evaluate(X_test, y_test, verbose=0)\n",
        "    results_dir=\"/content/drive/My Drive/SIMPA_CYBERSECURITY/Final_SIMPA_Cyber/Results/\"+model_name+\"/\"\n",
        "    if not os.path.exists(results_dir):\n",
        "        os.makedirs(results_dir)\n",
        "      \n",
        "    with plt.style.context('seaborn-white'):\n",
        "        plt.figure(figsize=(10, 5))\n",
        "        plt.subplot(1,2,2)\n",
        "        #Plot training & validation accuracy values\n",
        "        plt.plot(history.history['accuracy'])\n",
        "        plt.plot(history.history['val_accuracy'])\n",
        "        plt.title('Accuracy Vs Epochs')\n",
        "        plt.ylabel('Accuracy (in %)')\n",
        "        plt.xlabel('Epoch')\n",
        "        plt.legend(['Train', 'Validation'], loc='upper left')\n",
        "        plt.grid('on')\n",
        "        plt.savefig(results_dir+'Accuracy_SpatialStegoDectect_'+model_name+'.eps', format='eps')\n",
        "        plt.savefig(results_dir+'Accuracy_SpatialStegoDectect_'+model_name+'.svg', format='svg')\n",
        "        plt.savefig(results_dir+'Accuracy_SpatialStegoDectect_'+model_name+'.pdf', format='pdf')\n",
        "        plt.show()\n",
        "        \n",
        "        plt.figure(figsize=(10, 5))\n",
        "        plt.subplot(1,2,2)\n",
        "        #Plot training & validation loss values\n",
        "        plt.plot(history.history['loss'])\n",
        "        plt.plot(history.history['val_loss'])\n",
        "        plt.title('Loss Vs Epochs')\n",
        "        plt.ylabel('Loss (in %)')\n",
        "        plt.xlabel('Epoch')\n",
        "        plt.legend(['Train', 'Validation'], loc='upper left')\n",
        "        plt.grid('on')\n",
        "        plt.savefig(results_dir+'Loss_SpatialStegoDectect_'+model_name+'.eps', format='eps')\n",
        "        plt.savefig(results_dir+'Loss_SpatialStegoDectect_'+model_name+'.svg', format='svg')\n",
        "        plt.savefig(results_dir+'Loss_SpatialStegoDectect_'+model_name+'.pdf', format='pdf')\n",
        "        plt.show()\n",
        "\n",
        "        '''\n",
        "        plt.figure(figsize=(10, 5))\n",
        "        plt.subplot(1,2,2)\n",
        "        #Plot training & validation loss values\n",
        "        plt.plot(history.history['lr'])\n",
        "        plt.ylabel('Lr')\n",
        "        plt.xlabel('Epoch')\n",
        "        plt.grid('on')\n",
        "        plt.show()\n",
        "        '''\n",
        "    TIME = tm.time() - start_time\n",
        "    print(\"Time \"+model_name+\" = %s [seconds]\" % TIME)\n",
        "    return {k:v for k,v in zip (model.metrics_names, metrics)}"
      ]
    },
    {
      "cell_type": "code",
      "execution_count": 127,
      "metadata": {
        "id": "oRjml2x1ISp1"
      },
      "outputs": [],
      "source": [
        "def Final_Results_Test(model,Trained_Models):\n",
        "    B_accuracy = 0 #B --> Best\n",
        "    for filename in os.listdir(Trained_Models):\n",
        "        if filename != ('train') and filename != ('validation'):\n",
        "            print(filename)\n",
        "            model.load_weights(Trained_Models+'/'+filename)\n",
        "            loss,accuracy = model.evaluate(X_test, y_test,verbose=0)\n",
        "            print(f'Loss={loss:.4f} y Accuracy={accuracy:0.4f}'+'\\n') \n",
        "            if accuracy > B_accuracy:\n",
        "                B_accuracy = accuracy\n",
        "                B_loss = loss\n",
        "                B_name = filename\n",
        "    print(\"\\n\\nBest\")\n",
        "    print(B_name)\n",
        "    print(f'Loss={B_loss:.4f} y Accuracy={B_accuracy:0.4f}'+'\\n')"
      ]
    },
    {
      "cell_type": "code",
      "execution_count": 128,
      "metadata": {
        "id": "Bq6ovi0EISp2"
      },
      "outputs": [],
      "source": [
        "from tqdm import tqdm\n",
        "def plot_train_valid(model,Trained_Models,model_name):\n",
        "    acc_train=[]\n",
        "    acc_valid=[]\n",
        "    loss_train=[]\n",
        "    loss_valid=[]\n",
        "    for filename in tqdm(os.listdir(Trained_Models)):\n",
        "        if filename != ('train') and filename != ('validation'):\n",
        "            print(filename)\n",
        "            model.load_weights(Trained_Models+'/'+filename)\n",
        "            loss,accuracy = model.evaluate(X_train, y_train,verbose=0)\n",
        "            acc_train.append(accuracy)\n",
        "            loss_train.append(loss)\n",
        "            loss,accuracy = model.evaluate(X_valid, y_valid,verbose=0)\n",
        "            acc_valid.append(accuracy)\n",
        "            loss_valid.append(loss)\n",
        "\n",
        "    results_dir=\"/content/drive/My Drive/SIMPA_CYBERSECURITY/Final_SIMPA_Cyber/Results/\"+model_name+\"/\"\n",
        "    if not os.path.exists(results_dir):\n",
        "        os.makedirs(results_dir)\n",
        "\n",
        "    with plt.style.context('seaborn-white'):\n",
        "        plt.figure(figsize=(5, 5))\n",
        "        plt.subplot(1,1,1)\n",
        "        #Plot training & validation accuracy values\n",
        "        plt.plot(acc_train)\n",
        "        plt.plot(acc_valid)\n",
        "        plt.title('Accuracy Vs Epochs')\n",
        "        plt.ylabel('Accuracy in %')\n",
        "        plt.xlabel('Epoch')\n",
        "        plt.legend(['Train', 'Validation'], loc='upper left')\n",
        "        plt.grid('on')\n",
        "        plt.savefig(results_dir+'Accuracy_SpatialStegoDectect_'+model_name+'.eps', format='eps')\n",
        "        plt.savefig(results_dir+'Accuracy_SpatialStegoDectect_'+model_name+'.svg', format='svg')\n",
        "        plt.savefig(results_dir+'Accuracy_SpatialStegoDectect_'+model_name+'.pdf', format='pdf')\n",
        "        plt.show()\n",
        "\n",
        "        plt.figure(figsize=(5, 5))\n",
        "        plt.subplot(1,1,1)\n",
        "        #Plot training & validation loss values\n",
        "        plt.plot(loss_train)\n",
        "        plt.plot(loss_valid)\n",
        "        plt.title('Loss Vs Epochs')\n",
        "        plt.ylabel('Loss in %')\n",
        "        plt.xlabel('Epochs')\n",
        "        plt.legend(['Train', 'Validation'], loc='upper left')\n",
        "        plt.grid('on')\n",
        "        plt.savefig(results_dir+'Loss_SpatialStegoDectect_'+model_name+'.eps', format='eps')\n",
        "        plt.savefig(results_dir+'Loss_SpatialStegoDectect_'+model_name+'.svg', format='svg')\n",
        "        plt.savefig(results_dir+'Loss_SpatialStegoDectect_'+model_name+'.pdf', format='pdf')\n",
        "        plt.show()\n",
        "\n",
        "        '''\n",
        "        plt.figure(figsize=(10, 10))\n",
        "        plt.subplot(1,2,2)\n",
        "        #Plot training & validation loss values\n",
        "        plt.plot(history.history['lr'])\n",
        "        plt.ylabel('Lr')\n",
        "        plt.xlabel('Epoch')\n",
        "        plt.grid('on')\n",
        "        plt.show()\n",
        "        '''\n",
        "    results={'acc_train':acc_train,'acc_valid':acc_valid,'loss_train':loss_train,'loss_valid':loss_valid}\n",
        "    return results"
      ]
    },
    {
      "cell_type": "markdown",
      "metadata": {
        "id": "sDX0swLNISp3"
      },
      "source": [
        "ROC curves Plotting"
      ]
    },
    {
      "cell_type": "code",
      "execution_count": 129,
      "metadata": {
        "id": "_0XA937-ISp4"
      },
      "outputs": [],
      "source": [
        "from sklearn.metrics import (\n",
        "    average_precision_score,\n",
        "    precision_recall_curve,\n",
        "    roc_auc_score,\n",
        "    roc_curve,\n",
        ")\n",
        "\n",
        "def get_curve(gt, pred, target_names,model_name):\n",
        "    labels=[]\n",
        "    for i in range(len(target_names)):\n",
        "        \n",
        "        curve_function = roc_curve\n",
        "        auc_roc = roc_auc_score(gt[:, i], pred[:, i])\n",
        "        label = model_name+target_names[i] + \" AUC: %.3f \" % auc_roc\n",
        "        labels.append(label)\n",
        "        xlabel = \"FPR\"\n",
        "        ylabel = \"TPR\"\n",
        "        a, b, _ = curve_function(gt[:, i], pred[:, i])\n",
        "        plt.figure(1, figsize=(5, 5))\n",
        "        plt.plot([0, 1], [0, 1], 'k--')\n",
        "        plt.plot(a, b, label=label)\n",
        "        plt.xlabel(xlabel)\n",
        "        plt.ylabel(ylabel)\n",
        "\n",
        "        plt.legend(loc='upper center', bbox_to_anchor=(1, 1),\n",
        "                  fancybox=True, ncol=1)\n",
        "      \n",
        "    return [a,b],labels\n",
        "labels = [\"Cover\",\"Stego\"]"
      ]
    },
    {
      "cell_type": "markdown",
      "source": [
        "# B. Working with BOSSbase 1.01"
      ],
      "metadata": {
        "id": "mNG1dcWDfGSI"
      }
    },
    {
      "cell_type": "code",
      "source": [
        "CH01 = 'drive/My Drive/SIMPA_CYBERSECURITY/Final_SIMPA_Cyber'\n",
        "#Dataset\n",
        "EPOCHS=10\n",
        "CH01_WOW1 = \"/Numpy_files/\"\n",
        "\n",
        "#Train\n",
        "X_train = np.load(CH01+CH01_WOW1+'X_training.npy')\n",
        "y_train = np.load(CH01+CH01_WOW1+'y_training.npy')\n",
        "#Valid\n",
        "X_valid = np.load(CH01+CH01_WOW1+'X_validating.npy')\n",
        "y_valid = np.load(CH01+CH01_WOW1+'y_validating.npy')\n",
        "#Test\n",
        "X_test = np.load(CH01+CH01_WOW1+'X_testing.npy')\n",
        "y_test = np.load(CH01+CH01_WOW1+'y_testing.npy')\n",
        "\n",
        "print(X_train.shape)\n",
        "print(y_train.shape)\n",
        "print(X_valid.shape)\n",
        "print(y_valid.shape)\n",
        "print(X_test.shape)\n",
        "print(y_test.shape)"
      ],
      "metadata": {
        "colab": {
          "base_uri": "https://localhost:8080/"
        },
        "id": "JpcZXM_QPKx3",
        "outputId": "367cc3bb-e512-4f3b-abf0-0eb822e93530"
      },
      "execution_count": 130,
      "outputs": [
        {
          "output_type": "stream",
          "name": "stdout",
          "text": [
            "(16, 256, 256)\n",
            "(16, 2)\n",
            "(12, 256, 256)\n",
            "(12, 2)\n",
            "(8, 256, 256)\n",
            "(8, 2)\n"
          ]
        }
      ]
    },
    {
      "cell_type": "markdown",
      "metadata": {
        "id": "e6hggTOkISp6"
      },
      "source": [
        "CNN name and algorithm "
      ]
    },
    {
      "cell_type": "code",
      "execution_count": 131,
      "metadata": {
        "id": "kT8DeNVBISp6"
      },
      "outputs": [],
      "source": [
        "base_name=\"WOW\"\n",
        "m_name=\"SpatialStegoDectect\""
      ]
    },
    {
      "cell_type": "markdown",
      "metadata": {
        "id": "Ny_qQy4sISp6"
      },
      "source": [
        "Training"
      ]
    },
    {
      "cell_type": "code",
      "source": [
        "model= SpatialStegoDectect() \n",
        "name=\"Model_\"+m_name+\"_\"+base_name\n",
        "_, history  = train(model, X_train, y_train, X_valid, y_valid, X_test, y_test, batch_size=64, epochs=10, model_name=name)"
      ],
      "metadata": {
        "id": "eIPHzCzfTdKX",
        "colab": {
          "base_uri": "https://localhost:8080/",
          "height": 1000
        },
        "outputId": "08b88fcb-d356-4c9d-c28c-df08a0af1a9a"
      },
      "execution_count": 132,
      "outputs": [
        {
          "output_type": "stream",
          "name": "stdout",
          "text": [
            "SpatialStegoDetect model generated\n",
            "Epoch 1/10\n",
            "1/1 [==============================] - 1s 1s/step - loss: 2.1365 - accuracy: 0.5000 - val_loss: 26.2736 - val_accuracy: 0.5000\n",
            "Epoch 2/10\n",
            "1/1 [==============================] - 4s 4s/step - loss: 23.3989 - accuracy: 0.5000 - val_loss: 28.7996 - val_accuracy: 0.5000\n",
            "Epoch 3/10\n",
            "1/1 [==============================] - 1s 577ms/step - loss: 25.6486 - accuracy: 0.5000 - val_loss: 34.8969 - val_accuracy: 0.5000\n",
            "Epoch 4/10\n",
            "1/1 [==============================] - 1s 607ms/step - loss: 32.7312 - accuracy: 0.5000 - val_loss: 7.1978 - val_accuracy: 0.5000\n",
            "Epoch 5/10\n",
            "1/1 [==============================] - 1s 542ms/step - loss: 6.4124 - accuracy: 0.5000 - val_loss: 5.2126 - val_accuracy: 0.5000\n",
            "Epoch 6/10\n",
            "1/1 [==============================] - 1s 676ms/step - loss: 5.0073 - accuracy: 0.5000 - val_loss: 3.6953 - val_accuracy: 0.5000\n",
            "Epoch 7/10\n",
            "1/1 [==============================] - 1s 637ms/step - loss: 3.6671 - accuracy: 0.5000 - val_loss: 5.3134 - val_accuracy: 0.5000\n",
            "Epoch 8/10\n",
            "1/1 [==============================] - 1s 692ms/step - loss: 5.1317 - accuracy: 0.5000 - val_loss: 3.8255 - val_accuracy: 0.5000\n",
            "Epoch 9/10\n",
            "1/1 [==============================] - 1s 535ms/step - loss: 3.4249 - accuracy: 0.5000 - val_loss: 5.3058 - val_accuracy: 0.5000\n",
            "Epoch 10/10\n",
            "1/1 [==============================] - 1s 552ms/step - loss: 4.7252 - accuracy: 0.5000 - val_loss: 3.3142 - val_accuracy: 0.5000\n"
          ]
        },
        {
          "output_type": "display_data",
          "data": {
            "text/plain": [
              "<Figure size 1000x500 with 1 Axes>"
            ],
            "image/png": "[encoded data removed]"
          },
          "metadata": {}
        },
        {
          "output_type": "display_data",
          "data": {
            "text/plain": [
              "<Figure size 1000x500 with 1 Axes>"
            ],
            "image/png": "[encoded data removed]"
          },
          "metadata": {}
        },
        {
          "output_type": "stream",
          "name": "stdout",
          "text": [
            "Time Model_SpatialStegoDectect_WOW = 12.11307978630066 [seconds]\n"
          ]
        }
      ]
    },
    {
      "cell_type": "markdown",
      "metadata": {
        "id": "BQPy9qIyISp7"
      },
      "source": [
        "Test"
      ]
    },
    {
      "cell_type": "code",
      "source": [
        "model= SpatialStegoDectect() \n",
        "PATH_trained_models = 'drive/My Drive/SIMPA_CYBERSECURITY/Final_SIMPA_Cyber/logs/Model_SpatialStegoDectect_WOW_1685434043.4932103'\n",
        "Final_Results_Test(SpatialStegoDectect(), PATH_trained_models)"
      ],
      "metadata": {
        "id": "HriQ5nwe8uNK",
        "colab": {
          "base_uri": "https://localhost:8080/"
        },
        "outputId": "f9660297-cd67-49db-dce8-571355e7c940"
      },
      "execution_count": 133,
      "outputs": [
        {
          "output_type": "stream",
          "name": "stdout",
          "text": [
            "SpatialStegoDetect model generated\n",
            "SpatialStegoDetect model generated\n",
            "saved-model-01-0.50.hdf5\n",
            "Loss=28.0114 y Accuracy=0.5000\n",
            "\n",
            "saved-model-02-0.50.hdf5\n",
            "Loss=30.7045 y Accuracy=0.5000\n",
            "\n",
            "saved-model-03-0.50.hdf5\n",
            "Loss=36.2043 y Accuracy=0.5000\n",
            "\n",
            "saved-model-04-0.50.hdf5\n",
            "Loss=7.6667 y Accuracy=0.5000\n",
            "\n",
            "saved-model-05-0.50.hdf5\n",
            "Loss=5.3330 y Accuracy=0.5000\n",
            "\n",
            "saved-model-06-0.50.hdf5\n",
            "Loss=3.7052 y Accuracy=0.5000\n",
            "\n",
            "saved-model-07-0.50.hdf5\n",
            "Loss=5.4195 y Accuracy=0.5000\n",
            "\n",
            "saved-model-08-0.50.hdf5\n",
            "Loss=4.0649 y Accuracy=0.5000\n",
            "\n",
            "saved-model-09-0.50.hdf5\n",
            "Loss=5.6542 y Accuracy=0.5000\n",
            "\n",
            "saved-model-10-0.50.hdf5\n",
            "Loss=3.5251 y Accuracy=0.5000\n",
            "\n",
            "\n",
            "\n",
            "Best\n",
            "saved-model-01-0.50.hdf5\n",
            "Loss=28.0114 y Accuracy=0.5000\n",
            "\n"
          ]
        }
      ]
    },
    {
      "cell_type": "markdown",
      "metadata": {
        "id": "CtzHZ67tISp8"
      },
      "source": [
        "ROC curves"
      ]
    },
    {
      "cell_type": "code",
      "source": [
        "model= SpatialStegoDectect() \n",
        "model.load_weights(\"drive/My Drive/SIMPA_CYBERSECURITY/Final_SIMPA_Cyber/logs/Model_SpatialStegoDectect_WOW_1685434043.4932103/saved-model-07-0.50.hdf5\") #path best model\n",
        "predictions= model.predict(X_test,verbose=0)\n",
        "labels = [\"Cover\",\"Stego\"]\n",
        "model_name=\"SpatialStegoDectect()\"\n",
        "curve1,labels1=get_curve(y_test, predictions, labels,model_name) "
      ],
      "metadata": {
        "id": "wcxgqcFk8xj6",
        "colab": {
          "base_uri": "https://localhost:8080/",
          "height": 482
        },
        "outputId": "b4b85ece-b9c6-4bde-f0aa-d0dcb83f5874"
      },
      "execution_count": 136,
      "outputs": [
        {
          "output_type": "stream",
          "name": "stdout",
          "text": [
            "SpatialStegoDetect model generated\n"
          ]
        },
        {
          "output_type": "display_data",
          "data": {
            "text/plain": [
              "<Figure size 500x500 with 1 Axes>"
            ],
            "image/png": "[encoded data removed]"
          },
          "metadata": {}
        }
      ]
    },
    {
      "cell_type": "markdown",
      "source": [
        "# For the full implementation of our paper in Cybersecurity paper (Given in Reference [16] of our paper to SIMPA) you can refer to \"https://drive.google.com/drive/folders/1jkr01hjH3YFQcQNociiAxnp1Zgn6jYJX?usp=sharing\""
      ],
      "metadata": {
        "id": "rmPac0M9G9jc"
      }
    },
    {
      "cell_type": "markdown",
      "metadata": {
        "id": "n53shUqxRqpl"
      },
      "source": [
        "# ***End***\n"
      ]
    }
  ],
  "metadata": {
    "accelerator": "GPU",
    "colab": {
      "machine_shape": "hm",
      "provenance": []
    },
    "gpuClass": "standard",
    "kernelspec": {
      "display_name": "Python 3",
      "name": "python3"
    },
    "language_info": {
      "name": "python"
    }
  },
  "nbformat": 4,
  "nbformat_minor": 0
}